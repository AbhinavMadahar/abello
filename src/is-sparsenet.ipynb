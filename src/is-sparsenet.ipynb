{
 "cells": [
  {
   "cell_type": "markdown",
   "metadata": {},
   "source": [
    "# Is $H \\subset G$ a SparseNet?\n",
    "\n",
    "Abhinav Madahar <abhinav.madahar@rutgers.edu>, James Abello <abelloj@cs.rutgers.edu>\n",
    "\n",
    "---\n",
    "\n",
    "We want to know if a given subgraph is a SparseNet."
   ]
  },
  {
   "cell_type": "code",
   "execution_count": 5,
   "metadata": {},
   "outputs": [],
   "source": [
    "import networkx as nx\n",
    "from graph.sparsenet import sparsenet"
   ]
  },
  {
   "cell_type": "markdown",
   "metadata": {},
   "source": [
    "Let's get a SparseNet for example."
   ]
  },
  {
   "cell_type": "code",
   "execution_count": 6,
   "metadata": {},
   "outputs": [],
   "source": [
    "G = nx.gnm_random_graph(200, 1000)\n",
    "distance_matrix = nx.floyd_warshall_numpy(G)\n",
    "vertex_to_index = { node:i for i, node in enumerate(G.nodes) }\n",
    "edges = sum(([(src, dest) for src, dest in zip(path, path[1:])] for path in sparsenet(G, distance_matrix, vertex_to_index)), [])\n",
    "sp = nx.edge_subgraph(G, edges)"
   ]
  },
  {
   "cell_type": "markdown",
   "metadata": {},
   "source": [
    "What is its diameter compared to the supergraph's?"
   ]
  },
  {
   "cell_type": "code",
   "execution_count": 7,
   "metadata": {},
   "outputs": [
    {
     "data": {
      "text/plain": [
       "(4, 14)"
      ]
     },
     "execution_count": 7,
     "metadata": {},
     "output_type": "execute_result"
    }
   ],
   "source": [
    "nx.diameter(G), nx.diameter(sp)"
   ]
  }
 ],
 "metadata": {
  "kernelspec": {
   "display_name": "Python 3",
   "language": "python",
   "name": "python3"
  },
  "language_info": {
   "codemirror_mode": {
    "name": "ipython",
    "version": 3
   },
   "file_extension": ".py",
   "mimetype": "text/x-python",
   "name": "python",
   "nbconvert_exporter": "python",
   "pygments_lexer": "ipython3",
   "version": "3.6.9"
  }
 },
 "nbformat": 4,
 "nbformat_minor": 4
}
