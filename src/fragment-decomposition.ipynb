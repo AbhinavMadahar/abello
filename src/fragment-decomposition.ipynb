{
 "cells": [
  {
   "cell_type": "markdown",
   "metadata": {},
   "source": [
    "# Fragment Decomposition\n",
    "\n",
    "Abhinav Madahar <abhinav.madahar@rutgers.edu>, James Abello Monedero <abelloj@cs.rutgers.edu>\n",
    "\n",
    "<br />\n",
    "\n",
    "We want to find the fragment decomposition of a large graph."
   ]
  },
  {
   "cell_type": "code",
   "execution_count": 3,
   "metadata": {},
   "outputs": [],
   "source": [
    "import networkx as nx\n",
    "import matplotlib.pyplot as plt\n",
    "from queue import Queue\n",
    "from unionfind import UnionFind"
   ]
  },
  {
   "cell_type": "markdown",
   "metadata": {},
   "source": [
    "First, we need to be able to run pBFS on a path in a graph and get the connected components of the waves.\n",
    "Let's make an implementation of pBFS which yields tuples of connected components at every iteration."
   ]
  },
  {
   "cell_type": "code",
   "execution_count": 130,
   "metadata": {},
   "outputs": [],
   "source": [
    "from collections import namedtuple\n",
    "\n",
    "\n",
    "Node = namedtuple('Node', ['uid', 'children'])\n",
    "\n",
    "def parallel_bfs(G: nx.Graph, path: list):\n",
    "    queue = Queue()\n",
    "    for source in path:\n",
    "        queue.put(source)\n",
    "    \n",
    "    roots = (Node(source, []) for source in path)\n",
    "    tree = {source: root for source, root in zip(path, roots)}\n",
    "    \n",
    "    while not queue.empty():\n",
    "        v = queue.get()\n",
    "        for w in G.adj[v]:\n",
    "            if w not in tree:\n",
    "                tree[w] = Node(w, [])\n",
    "                tree[v].children.append(w)\n",
    "                queue.put(w)\n",
    "    \n",
    "    def get_underlying_subtree(head: Node) -> Node:\n",
    "        return Node(head.uid, [get_underlying_subtree(tree[child]) for child in head.children])\n",
    "    \n",
    "    pbfs = [get_underlying_subtree(tree[source]) for source in path]\n",
    "    \n",
    "    waves = {}\n",
    "\n",
    "    def add_to_tree(head, parent: int = None, depth: int = 0):\n",
    "        if depth not in waves:\n",
    "            waves[depth] = []\n",
    "        waves[depth].append((head.uid, parent))\n",
    "        for child in head.children:\n",
    "            add_to_tree(child, head.uid, depth + 1)\n",
    "\n",
    "    for pbfs_section in pbfs:\n",
    "        add_to_tree(pbfs_section)\n",
    "\n",
    "    return waves"
   ]
  },
  {
   "cell_type": "markdown",
   "metadata": {},
   "source": [
    "Let's get the waves."
   ]
  },
  {
   "cell_type": "code",
   "execution_count": 139,
   "metadata": {},
   "outputs": [
    {
     "data": {
      "text/plain": [
       "0"
      ]
     },
     "execution_count": 139,
     "metadata": {},
     "output_type": "execute_result"
    }
   ],
   "source": [
    "G = nx.gnm_random_graph(100, 200)\n",
    "G = G.subgraph(next(nx.connected_components(G))).copy()\n",
    "G.add_edge(0, 1)\n",
    "G.add_edge(1, 2)\n",
    "G.add_edge(2, 3)\n",
    "G.add_edge(3, 4)\n",
    "pbfs = parallel_bfs(G, [0, 1, 2, 3, 4])\n",
    "tree = nx.DiGraph()\n",
    "! rm -f pbfs.dot\n",
    "with open('pbfs.dot', 'a') as pbfs_file:\n",
    "    pbfs_file.write('digraph G {')\n",
    "    for layer in pbfs.values():\n",
    "        for dest, src in layer:\n",
    "            if src:\n",
    "                pbfs_file.write(f'{src} -> {dest};')\n",
    "    pbfs_file.write('}')\n",
    "            \n",
    "import subprocess\n",
    "subprocess.call([\"dot\", \"-Tpng\", \"pbfs.dot\", \"-o\", \"pbfs.png\"]) "
   ]
  }
 ],
 "metadata": {
  "kernelspec": {
   "display_name": "Python 3",
   "language": "python",
   "name": "python3"
  },
  "language_info": {
   "codemirror_mode": {
    "name": "ipython",
    "version": 2
   },
   "file_extension": ".py",
   "mimetype": "text/x-python",
   "name": "python",
   "nbconvert_exporter": "python",
   "pygments_lexer": "ipython2",
   "version": "2.7.17"
  }
 },
 "nbformat": 4,
 "nbformat_minor": 4
}
