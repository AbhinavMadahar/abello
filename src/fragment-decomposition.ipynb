{
 "cells": [
  {
   "cell_type": "markdown",
   "metadata": {},
   "source": [
    "# Fragment Decomposition\n",
    "\n",
    "Abhinav Madahar <abhinav.madahar@rutgers.edu>, James Abello Monedero <abelloj@cs.rutgers.edu>\n",
    "\n",
    "<br />\n",
    "\n",
    "We want to find the fragment decomposition of a large graph."
   ]
  },
  {
   "cell_type": "code",
   "execution_count": 3,
   "metadata": {},
   "outputs": [],
   "source": [
    "import networkx as nx\n",
    "import matplotlib.pyplot as plt\n",
    "from queue import Queue\n",
    "from unionfind import UnionFind"
   ]
  },
  {
   "cell_type": "code",
   "execution_count": 2,
   "metadata": {},
   "outputs": [
    {
     "name": "stdout",
     "output_type": "stream",
     "text": [
      "Collecting networkx\n",
      "  Downloading networkx-2.5-py3-none-any.whl (1.6 MB)\n",
      "\u001b[K     |████████████████████████████████| 1.6 MB 5.4 MB/s \n",
      "\u001b[?25hCollecting matplotlib\n",
      "  Downloading matplotlib-3.3.1-cp36-cp36m-manylinux1_x86_64.whl (11.6 MB)\n",
      "\u001b[K     |████████████████████████████████| 11.6 MB 77 kB/s \n",
      "\u001b[?25hRequirement already satisfied: decorator>=4.3.0 in /common/users/am2229/abello-env/lib/python3.6/site-packages (from networkx) (4.4.2)\n",
      "Collecting cycler>=0.10\n",
      "  Using cached cycler-0.10.0-py2.py3-none-any.whl (6.5 kB)\n",
      "Collecting kiwisolver>=1.0.1\n",
      "  Using cached kiwisolver-1.2.0-cp36-cp36m-manylinux1_x86_64.whl (88 kB)\n",
      "Collecting certifi>=2020.06.20\n",
      "  Using cached certifi-2020.6.20-py2.py3-none-any.whl (156 kB)\n",
      "Collecting pyparsing!=2.0.4,!=2.1.2,!=2.1.6,>=2.0.3\n",
      "  Using cached pyparsing-2.4.7-py2.py3-none-any.whl (67 kB)\n",
      "Requirement already satisfied: python-dateutil>=2.1 in /common/users/am2229/abello-env/lib/python3.6/site-packages (from matplotlib) (2.8.1)\n",
      "Collecting numpy>=1.15\n",
      "  Downloading numpy-1.19.1-cp36-cp36m-manylinux2010_x86_64.whl (14.5 MB)\n",
      "\u001b[K     |████████████████████████████████| 14.5 MB 53 kB/s \n",
      "\u001b[?25hCollecting pillow>=6.2.0\n",
      "  Downloading Pillow-7.2.0-cp36-cp36m-manylinux1_x86_64.whl (2.2 MB)\n",
      "\u001b[K     |████████████████████████████████| 2.2 MB 58.2 MB/s \n",
      "\u001b[?25hRequirement already satisfied: six in /common/users/am2229/abello-env/lib/python3.6/site-packages (from cycler>=0.10->matplotlib) (1.15.0)\n",
      "Installing collected packages: networkx, cycler, kiwisolver, certifi, pyparsing, numpy, pillow, matplotlib\n",
      "Successfully installed certifi-2020.6.20 cycler-0.10.0 kiwisolver-1.2.0 matplotlib-3.3.1 networkx-2.5 numpy-1.19.1 pillow-7.2.0 pyparsing-2.4.7\n"
     ]
    }
   ],
   "source": [
    "!pip3 install networkx matplotlib"
   ]
  },
  {
   "cell_type": "markdown",
   "metadata": {},
   "source": [
    "First, we need to be able to run pBFS on a path in a graph and get the connected components of the waves.\n",
    "Let's make an implementation of pBFS which yields tuples of connected components at every iteration."
   ]
  },
  {
   "cell_type": "code",
   "execution_count": 4,
   "metadata": {},
   "outputs": [],
   "source": [
    "def parallel_bfs(G: nx.Graph, path: list):\n",
    "    # starting from the path, we take the neighbhours of all the vertices, moving outward like the waves that form when a stone falls in water.\n",
    "    # the first wave is the given path; after that, the next wave is the neighbours of the path. Then, take the neighbours of that wave. Repeat until the entire graph is done.\n",
    "    # this generates the waves so that we don't use up memory storing all the waves\n",
    "    visited = set(path)\n",
    "    wave = path\n",
    "    yield [list(wave)]\n",
    "    while len(wave):\n",
    "        uf = UnionFind()\n",
    "        wave = set(sum((list(G[node].keys()) for node in wave), [])) - visited\n",
    "        visited |= wave\n",
    "        for node in wave:\n",
    "            uf.add(node)\n",
    "        for src, dest in G.subgraph(wave).edges:\n",
    "            uf.union(src, dest)\n",
    "        if len(wave) != 0:\n",
    "            components = [list(comp) for comp in uf.components()]\n",
    "            for node in old_wave:\n",
    "                for neighbour in G.adj[node]:\n",
    "                    if neighbour in wave:\n",
    "                        print(uf.find(node), uf.find(neighbour))\n",
    "            yield components"
   ]
  },
  {
   "cell_type": "markdown",
   "metadata": {},
   "source": [
    "Let's get the waves."
   ]
  },
  {
   "cell_type": "code",
   "execution_count": 5,
   "metadata": {},
   "outputs": [
    {
     "ename": "NameError",
     "evalue": "name 'old_wave' is not defined",
     "output_type": "error",
     "traceback": [
      "\u001b[0;31m---------------------------------------------------------------------------\u001b[0m",
      "\u001b[0;31mNameError\u001b[0m                                 Traceback (most recent call last)",
      "\u001b[0;32m<ipython-input-5-53a26f62197d>\u001b[0m in \u001b[0;36m<module>\u001b[0;34m\u001b[0m\n\u001b[1;32m      1\u001b[0m \u001b[0mG\u001b[0m \u001b[0;34m=\u001b[0m \u001b[0mnx\u001b[0m\u001b[0;34m.\u001b[0m\u001b[0mgnm_random_graph\u001b[0m\u001b[0;34m(\u001b[0m\u001b[0;36m100\u001b[0m\u001b[0;34m,\u001b[0m \u001b[0;36m200\u001b[0m\u001b[0;34m)\u001b[0m\u001b[0;34m\u001b[0m\u001b[0;34m\u001b[0m\u001b[0m\n\u001b[1;32m      2\u001b[0m \u001b[0mG\u001b[0m \u001b[0;34m=\u001b[0m \u001b[0mG\u001b[0m\u001b[0;34m.\u001b[0m\u001b[0msubgraph\u001b[0m\u001b[0;34m(\u001b[0m\u001b[0mnext\u001b[0m\u001b[0;34m(\u001b[0m\u001b[0mnx\u001b[0m\u001b[0;34m.\u001b[0m\u001b[0mconnected_components\u001b[0m\u001b[0;34m(\u001b[0m\u001b[0mG\u001b[0m\u001b[0;34m)\u001b[0m\u001b[0;34m)\u001b[0m\u001b[0;34m)\u001b[0m\u001b[0;34m\u001b[0m\u001b[0;34m\u001b[0m\u001b[0m\n\u001b[0;32m----> 3\u001b[0;31m \u001b[0mwaves\u001b[0m \u001b[0;34m=\u001b[0m \u001b[0mlist\u001b[0m\u001b[0;34m(\u001b[0m\u001b[0mparallel_bfs\u001b[0m\u001b[0;34m(\u001b[0m\u001b[0mG\u001b[0m\u001b[0;34m,\u001b[0m \u001b[0;34m[\u001b[0m\u001b[0;36m0\u001b[0m\u001b[0;34m]\u001b[0m\u001b[0;34m)\u001b[0m\u001b[0;34m)\u001b[0m\u001b[0;34m\u001b[0m\u001b[0;34m\u001b[0m\u001b[0m\n\u001b[0m",
      "\u001b[0;32m<ipython-input-4-019ccf5bf105>\u001b[0m in \u001b[0;36mparallel_bfs\u001b[0;34m(G, path)\u001b[0m\n\u001b[1;32m     16\u001b[0m         \u001b[0;32mif\u001b[0m \u001b[0mlen\u001b[0m\u001b[0;34m(\u001b[0m\u001b[0mwave\u001b[0m\u001b[0;34m)\u001b[0m \u001b[0;34m!=\u001b[0m \u001b[0;36m0\u001b[0m\u001b[0;34m:\u001b[0m\u001b[0;34m\u001b[0m\u001b[0;34m\u001b[0m\u001b[0m\n\u001b[1;32m     17\u001b[0m             \u001b[0mcomponents\u001b[0m \u001b[0;34m=\u001b[0m \u001b[0;34m[\u001b[0m\u001b[0mlist\u001b[0m\u001b[0;34m(\u001b[0m\u001b[0mcomp\u001b[0m\u001b[0;34m)\u001b[0m \u001b[0;32mfor\u001b[0m \u001b[0mcomp\u001b[0m \u001b[0;32min\u001b[0m \u001b[0muf\u001b[0m\u001b[0;34m.\u001b[0m\u001b[0mcomponents\u001b[0m\u001b[0;34m(\u001b[0m\u001b[0;34m)\u001b[0m\u001b[0;34m]\u001b[0m\u001b[0;34m\u001b[0m\u001b[0;34m\u001b[0m\u001b[0m\n\u001b[0;32m---> 18\u001b[0;31m             \u001b[0;32mfor\u001b[0m \u001b[0mnode\u001b[0m \u001b[0;32min\u001b[0m \u001b[0mold_wave\u001b[0m\u001b[0;34m:\u001b[0m\u001b[0;34m\u001b[0m\u001b[0;34m\u001b[0m\u001b[0m\n\u001b[0m\u001b[1;32m     19\u001b[0m                 \u001b[0;32mfor\u001b[0m \u001b[0mneighbour\u001b[0m \u001b[0;32min\u001b[0m \u001b[0mG\u001b[0m\u001b[0;34m.\u001b[0m\u001b[0madj\u001b[0m\u001b[0;34m[\u001b[0m\u001b[0mnode\u001b[0m\u001b[0;34m]\u001b[0m\u001b[0;34m:\u001b[0m\u001b[0;34m\u001b[0m\u001b[0;34m\u001b[0m\u001b[0m\n\u001b[1;32m     20\u001b[0m                     \u001b[0;32mif\u001b[0m \u001b[0mneighbour\u001b[0m \u001b[0;32min\u001b[0m \u001b[0mwave\u001b[0m\u001b[0;34m:\u001b[0m\u001b[0;34m\u001b[0m\u001b[0;34m\u001b[0m\u001b[0m\n",
      "\u001b[0;31mNameError\u001b[0m: name 'old_wave' is not defined"
     ]
    }
   ],
   "source": [
    "G = nx.gnm_random_graph(100, 200)\n",
    "G = G.subgraph(next(nx.connected_components(G)))\n",
    "waves = list(parallel_bfs(G, [0]))"
   ]
  },
  {
   "cell_type": "code",
   "execution_count": 100,
   "metadata": {},
   "outputs": [
    {
     "data": {
      "text/plain": [
       "[[[0]],\n",
       " [[35], [10, 69], [14], [52], [88]],\n",
       " [[6],\n",
       "  [17, 13],\n",
       "  [15],\n",
       "  [19],\n",
       "  [21],\n",
       "  [22],\n",
       "  [57, 27],\n",
       "  [39],\n",
       "  [45],\n",
       "  [54],\n",
       "  [67],\n",
       "  [89, 71],\n",
       "  [74],\n",
       "  [79],\n",
       "  [90],\n",
       "  [91],\n",
       "  [92],\n",
       "  [94],\n",
       "  [96],\n",
       "  [97]],\n",
       " [[3,\n",
       "   7,\n",
       "   8,\n",
       "   11,\n",
       "   12,\n",
       "   16,\n",
       "   18,\n",
       "   23,\n",
       "   24,\n",
       "   26,\n",
       "   28,\n",
       "   31,\n",
       "   32,\n",
       "   34,\n",
       "   40,\n",
       "   42,\n",
       "   43,\n",
       "   44,\n",
       "   47,\n",
       "   48,\n",
       "   49,\n",
       "   50,\n",
       "   51,\n",
       "   53,\n",
       "   55,\n",
       "   56,\n",
       "   58,\n",
       "   59,\n",
       "   68,\n",
       "   72,\n",
       "   73,\n",
       "   75,\n",
       "   76,\n",
       "   77,\n",
       "   81,\n",
       "   83,\n",
       "   84,\n",
       "   85,\n",
       "   93,\n",
       "   95,\n",
       "   98,\n",
       "   99],\n",
       "  [5],\n",
       "  [65],\n",
       "  [86],\n",
       "  [37],\n",
       "  [38],\n",
       "  [60]],\n",
       " [[1],\n",
       "  [2],\n",
       "  [33],\n",
       "  [4],\n",
       "  [36],\n",
       "  [66, 30],\n",
       "  [41, 70, 87],\n",
       "  [9, 82],\n",
       "  [46],\n",
       "  [80, 20],\n",
       "  [61],\n",
       "  [62],\n",
       "  [25, 29],\n",
       "  [63]]]"
      ]
     },
     "execution_count": 100,
     "metadata": {},
     "output_type": "execute_result"
    }
   ],
   "source": [
    "waves"
   ]
  },
  {
   "cell_type": "markdown",
   "metadata": {},
   "source": [
    "Now, let's find the meta-graph structure."
   ]
  },
  {
   "cell_type": "code",
   "execution_count": 74,
   "metadata": {},
   "outputs": [],
   "source": [
    "connections = []\n",
    "for upper, lower in zip(waves, waves[1:]):\n",
    "    for src_cc in upper:\n",
    "        for dest_cc in lower:\n",
    "            for src in src_cc:\n",
    "                for dest in dest_cc:\n",
    "                    if (src, dest) in G.edges:\n",
    "                        connections.append((src_cc, dest_cc))\n",
    "                        break"
   ]
  }
 ],
 "metadata": {
  "kernelspec": {
   "display_name": "Python 3",
   "language": "python",
   "name": "python3"
  },
  "language_info": {
   "codemirror_mode": {
    "name": "ipython",
    "version": 2
   },
   "file_extension": ".py",
   "mimetype": "text/x-python",
   "name": "python",
   "nbconvert_exporter": "python",
   "pygments_lexer": "ipython2",
   "version": "2.7.17"
  }
 },
 "nbformat": 4,
 "nbformat_minor": 4
}
