{
 "cells": [
  {
   "cell_type": "markdown",
   "metadata": {},
   "source": [
    "# Fragment Decomposition\n",
    "\n",
    "Abhinav Madahar <abhinav.madahar@rutgers.edu>, James Abello Monedero <abelloj@cs.rutgers.edu>\n",
    "\n",
    "<br />\n",
    "\n",
    "We want to find the fragment decomposition of a large graph."
   ]
  },
  {
   "cell_type": "code",
   "execution_count": 46,
   "metadata": {},
   "outputs": [],
   "source": [
    "import networkx as nx\n",
    "import matplotlib.pyplot as plt\n",
    "from queue import Queue\n",
    "from unionfind import UnionFind"
   ]
  },
  {
   "cell_type": "markdown",
   "metadata": {},
   "source": [
    "First, we need to be able to run pBFS on a path in a graph and get the connected components of the waves.\n",
    "Let's make an implementation of pBFS which yields tuples of connected components at every iteration."
   ]
  },
  {
   "cell_type": "code",
   "execution_count": 47,
   "metadata": {},
   "outputs": [],
   "source": [
    "from collections import namedtuple\n",
    "\n",
    "\n",
    "Node = namedtuple('Node', ['uid', 'children'])\n",
    "\n",
    "def parallel_bfs(G: nx.Graph, path: list):\n",
    "    queue = Queue()\n",
    "    for source in path:\n",
    "        queue.put(source)\n",
    "    \n",
    "    roots = (Node(source, []) for source in path)\n",
    "    tree = {source: root for source, root in zip(path, roots)}\n",
    "    \n",
    "    while not queue.empty():\n",
    "        v = queue.get()\n",
    "        for w in G.adj[v]:\n",
    "            if w not in tree:\n",
    "                tree[w] = Node(w, [])\n",
    "                tree[v].children.append(w)\n",
    "                queue.put(w)\n",
    "    \n",
    "    def get_underlying_subtree(head: Node) -> Node:\n",
    "        return Node(head.uid, [get_underlying_subtree(tree[child]) for child in head.children])\n",
    "    \n",
    "    pbfs = [get_underlying_subtree(tree[source]) for source in path]\n",
    "    \n",
    "    waves = {}\n",
    "\n",
    "    def add_to_tree(head, parent: int = None, depth: int = 0):\n",
    "        if depth not in waves:\n",
    "            waves[depth] = []\n",
    "        waves[depth].append((head.uid, parent))\n",
    "        for child in head.children:\n",
    "            add_to_tree(child, head.uid, depth + 1)\n",
    "\n",
    "    for pbfs_section in pbfs:\n",
    "        add_to_tree(pbfs_section)\n",
    "        \n",
    "    connected_components = []\n",
    "    for wave in waves.values():\n",
    "        uf = UnionFind()\n",
    "        nodes = set(node for node, _ in wave)\n",
    "        for src in nodes:\n",
    "            for dest in G.adj[src]:\n",
    "                if dest in nodes:\n",
    "                    uf.union(src, dest)\n",
    "        connected_components.append(uf.components())\n",
    "\n",
    "    return waves, connected_components"
   ]
  },
  {
   "cell_type": "markdown",
   "metadata": {},
   "source": [
    "Let's get the waves."
   ]
  },
  {
   "cell_type": "code",
   "execution_count": 58,
   "metadata": {},
   "outputs": [
    {
     "name": "stdout",
     "output_type": "stream",
     "text": [
      "CPU times: user 18.3 s, sys: 556 ms, total: 18.8 s\n",
      "Wall time: 18.8 s\n"
     ]
    }
   ],
   "source": [
    "%%time\n",
    "G = nx.gnm_random_graph(50000, 1300000)\n",
    "G = G.subgraph(next(nx.connected_components(G))).copy()\n",
    "G.add_edge(0, 1)\n",
    "G.add_edge(1, 2)\n",
    "G.add_edge(2, 3)\n",
    "G.add_edge(3, 4)\n",
    "pbfs, waves = parallel_bfs(G, [0, 1, 2, 3, 4])"
   ]
  },
  {
   "cell_type": "code",
   "execution_count": 61,
   "metadata": {},
   "outputs": [
    {
     "data": {
      "text/plain": [
       "26.0"
      ]
     },
     "execution_count": 61,
     "metadata": {},
     "output_type": "execute_result"
    }
   ],
   "source": [
    "(1300000 / 50000) /  "
   ]
  },
  {
   "cell_type": "code",
   "execution_count": 57,
   "metadata": {},
   "outputs": [
    {
     "name": "stdout",
     "output_type": "stream",
     "text": [
      "dot: graph is too large for cairo-renderer bitmaps. Scaling by 0.0730607 to fit\n"
     ]
    }
   ],
   "source": [
    "from random import random\n",
    "\n",
    "tree = nx.DiGraph()\n",
    "! rm -f pbfs.dot\n",
    "\n",
    "random_color = lambda: \"%s %s %s\"%(random(), random(), random())\n",
    "colours = {}\n",
    "for wave in waves:\n",
    "    for comp in wave:\n",
    "        colour = random_color()\n",
    "        for node in comp:\n",
    "            colours[node] = colour\n",
    "\n",
    "with open('pbfs.dot', 'a') as pbfs_file:\n",
    "    pbfs_file.write('digraph G {')\n",
    "    for layer in pbfs.values():\n",
    "        for dest, src in layer:\n",
    "            if src:\n",
    "                pbfs_file.write(f'{src} [fontcolor=\"{colours[src] if src in colours else \"black\"}\"]; {dest} [fontcolor=\"{colours[dest] if dest in colours else \"black\"}\"]; {src} -> {dest};')\n",
    "    pbfs_file.write('}')\n",
    "\n",
    "!dot -Tpng pbfs.dot -o pbfs.png"
   ]
  },
  {
   "cell_type": "code",
   "execution_count": null,
   "metadata": {},
   "outputs": [],
   "source": []
  }
 ],
 "metadata": {
  "kernelspec": {
   "display_name": "Python 3",
   "language": "python",
   "name": "python3"
  },
  "language_info": {
   "codemirror_mode": {
    "name": "ipython",
    "version": 2
   },
   "file_extension": ".py",
   "mimetype": "text/x-python",
   "name": "python",
   "nbconvert_exporter": "python",
   "pygments_lexer": "ipython2",
   "version": "2.7.17"
  }
 },
 "nbformat": 4,
 "nbformat_minor": 4
}
