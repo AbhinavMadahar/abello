{
 "cells": [
  {
   "cell_type": "markdown",
   "metadata": {},
   "source": [
    "Massive data trick: how you start this process matters.\n",
    "You can have starting set of BFS that you can choose.\n",
    "Parallel trick: choose for pBFS some interesting sub-graph.\n",
    "The sub-graph should be the beginning.\n",
    "Then, find the neighbours of that which are new and then find the connected components of that and begin.\n",
    "\n",
    "This is modular design.\n",
    "We have pBFS, we have pBFS with DAG BFS separately.\n",
    "In particular, "
   ]
  }
 ],
 "metadata": {
  "kernelspec": {
   "display_name": "Python 3",
   "language": "python",
   "name": "python3"
  },
  "language_info": {
   "codemirror_mode": {
    "name": "ipython",
    "version": 3
   },
   "file_extension": ".py",
   "mimetype": "text/x-python",
   "name": "python",
   "nbconvert_exporter": "python",
   "pygments_lexer": "ipython3",
   "version": "3.6.9"
  }
 },
 "nbformat": 4,
 "nbformat_minor": 4
}
