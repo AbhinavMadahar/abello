{
 "cells": [
  {
   "cell_type": "code",
   "execution_count": 1,
   "metadata": {},
   "outputs": [],
   "source": [
    "import matplotlib.pyplot as plt\n",
    "import matplotlib as mpl\n",
    "import networkx as nx\n",
    "import numpy as np\n",
    "import os\n",
    "import random\n",
    "import sys\n",
    "import pickle\n",
    "import math\n",
    "\n",
    "from IPython.display import Video\n",
    "from sparsenet import longest_shortest_path\n",
    "from time import time\n",
    "from multiprocessing import Pool, cpu_count"
   ]
  },
  {
   "cell_type": "code",
   "execution_count": 2,
   "metadata": {},
   "outputs": [],
   "source": [
    "G = nx.Graph()\n",
    "G = nx.readwrite.gexf.read_gexf('fabula/combined.gexf').to_undirected()"
   ]
  },
  {
   "cell_type": "code",
   "execution_count": 3,
   "metadata": {},
   "outputs": [],
   "source": [
    "connected_nodes = sorted(nx.connected_components(G), key=lambda comp: len(comp))[-1]\n",
    "component = G.subgraph(connected_nodes)"
   ]
  },
  {
   "cell_type": "code",
   "execution_count": 4,
   "metadata": {},
   "outputs": [],
   "source": [
    "path = ['http://www.semanticweb.org/tonka/ontologies/2015/5/tmi-atu-ontology#169B*', 'http://www.semanticweb.org/tonka/ontologies/2015/5/tmi-atu-ontology#169*', 'http://www.semanticweb.org/tonka/ontologies/2015/5/tmi-atu-ontology#Wild_Animals_and_Humans_150–199', 'http://www.semanticweb.org/tonka/ontologies/2015/5/tmi-atu-ontology#157', 'http://www.semanticweb.org/tonka/ontologies/2015/5/tmi-atu-ontology#J17', 'http://www.semanticweb.org/tonka/ontologies/2015/5/tmi-atu-ontology#J', 'http://www.semanticweb.org/tonka/ontologies/2015/5/tmi-atu-ontology#J2073', 'http://www.semanticweb.org/tonka/ontologies/2015/5/tmi-atu-ontology#750A', '2708', 'INF92', '1916', 'http://www.semanticweb.org/tonka/ontologies/2015/5/tmi-atu-ontology#2025', '2898', 'INF72', '2900']\n",
    "try:\n",
    "    with open('pos.pickle', 'rb') as f:\n",
    "        pos = pickle.load(f)\n",
    "except:\n",
    "    pos = nx.spring_layout(component)\n",
    "    with open('pos.pickle', 'wb') as f:\n",
    "        pickle.dump(pos, f)"
   ]
  },
  {
   "cell_type": "code",
   "execution_count": 5,
   "metadata": {},
   "outputs": [],
   "source": [
    "paths = list(nx.algorithms.all_shortest_paths(component, path[0], path[-1]))"
   ]
  },
  {
   "cell_type": "code",
   "execution_count": null,
   "metadata": {},
   "outputs": [],
   "source": [
    "for path in nx.algorithms.all_shortest_paths(component, path[0], path[-1]):\n",
    "    r = lambda: random.randint(0,255)\n",
    "    color = '#%02X%02X%02X' % (r(),r(),r())\n",
    "    nx.draw_networkx_nodes(component, pos, nodelist=path, node_size=1, node_color=color)\n",
    "    nx.draw_networkx_edges(component, pos, edgelist=[(src, dest) for src, dest in zip(path, path[1:])], edge_size=1, edge_color=color)\n",
    "plt.savefig('plots/all-longest.png')\n",
    "plt.clf()"
   ]
  },
  {
   "cell_type": "code",
   "execution_count": null,
   "metadata": {},
   "outputs": [],
   "source": [
    "for i, path in enumerate(nx.algorithms.all_shortest_paths(component, path[0], path[-1])):\n",
    "    nx.draw_networkx_nodes(component, pos, nodelist=path, node_size=1)\n",
    "    nx.draw_networkx_edges(component, pos, edgelist=[(src, dest) for src, dest in zip(path, path[1:])], edge_size=1, edge_color=color)\n",
    "    nx.draw_networkx_nodes(component, pos, nodelist=component, node_size=1, node_color='white', alpha=0)\n",
    "    plt.savefig('plots/all-longest-%s.png'%i)\n",
    "    plt.clf()\n",
    "\n",
    "os.system(\"ffmpeg -pattern_type glob -i 'plots/all-longest-*.png' -vf 'fps=25,format=yuv420p' -y plots/all-longest.mp4\")"
   ]
  },
  {
   "cell_type": "code",
   "execution_count": 34,
   "metadata": {},
   "outputs": [
    {
     "name": "stdout",
     "output_type": "stream",
     "text": [
      "CPU times: user 15min 39s, sys: 8min 46s, total: 24min 25s\n",
      "Wall time: 8min 35s\n"
     ]
    },
    {
     "data": {
      "text/html": [
       "<video src=\"plots/all-longest-cumulative.mp4\" controls  >\n",
       "      Your browser does not support the <code>video</code> element.\n",
       "    </video>"
      ],
      "text/plain": [
       "<IPython.core.display.Video object>"
      ]
     },
     "execution_count": 34,
     "metadata": {},
     "output_type": "execute_result"
    },
    {
     "data": {
      "text/plain": [
       "<Figure size 432x288 with 0 Axes>"
      ]
     },
     "metadata": {},
     "output_type": "display_data"
    }
   ],
   "source": [
    "%%time\n",
    "\n",
    "os.system('rm -rf plots/all-longest-cumulative-*.png')\n",
    "\n",
    "for i, path in enumerate(paths):\n",
    "    nx.draw_networkx_nodes(component, pos, nodelist=component, node_size=1, node_color='grey', alpha=0)\n",
    "    for j, prev in enumerate(paths[max(i-20, 0):i]):\n",
    "        nx.draw_networkx_nodes(component, pos, nodelist=prev, node_size=1, node_color='grey', alpha=j/20)\n",
    "        nx.draw_networkx_edges(component, pos, edgelist=[(src, dest) for src, dest in zip(prev, prev[1:])], edge_size=1, edge_color='grey', alpha=j/20)\n",
    "    nx.draw_networkx_nodes(component, pos, nodelist=path, node_size=1, node_color='red')\n",
    "    nx.draw_networkx_edges(component, pos, edgelist=[(src, dest) for src, dest in zip(path, path[1:])], edge_size=1, edge_color='red')\n",
    "    plt.savefig('plots/all-longest-cumulative-%4d.png'%i)\n",
    "    plt.clf()\n",
    "\n",
    "os.system(\"ffmpeg -i plots/all-longest-cumulative-%4d.png -vf 'fps=25,format=yuv420p' -y plots/all-longest-cumulative.mp4\"%)\n",
    "Video('plots/all-longest-cumulative.mp4')"
   ]
  }
 ],
 "metadata": {
  "kernelspec": {
   "display_name": "Python 3",
   "language": "python",
   "name": "python3"
  },
  "language_info": {
   "codemirror_mode": {
    "name": "ipython",
    "version": 3
   },
   "file_extension": ".py",
   "mimetype": "text/x-python",
   "name": "python",
   "nbconvert_exporter": "python",
   "pygments_lexer": "ipython3",
   "version": "3.6.9"
  }
 },
 "nbformat": 4,
 "nbformat_minor": 4
}
